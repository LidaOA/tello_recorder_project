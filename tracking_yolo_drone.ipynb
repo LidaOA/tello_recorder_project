{
 "cells": [
  {
   "cell_type": "code",
   "execution_count": null,
   "metadata": {
    "colab": {
     "base_uri": "https://localhost:8080/"
    },
    "id": "ehwk8K3hTHgl",
    "outputId": "0bd4a264-b012-4ab9-9d73-52103a3cca9c"
   },
   "outputs": [],
   "source": [
    "!pip install ultralytics"
   ]
  },
  {
   "cell_type": "code",
   "execution_count": null,
   "metadata": {
    "id": "MsWcpBnTTPlq"
   },
   "outputs": [],
   "source": [
    "import torch\n",
    "from ultralytics import YOLO\n",
    "import os\n",
    "import glob\n",
    "import gdown"
   ]
  },
  {
   "cell_type": "code",
   "execution_count": null,
   "metadata": {
    "id": "tLTal-GBTKEJ"
   },
   "outputs": [],
   "source": [
    "model = YOLO(\"yolov8l-world.pt\")"
   ]
  },
  {
   "cell_type": "code",
   "execution_count": null,
   "metadata": {
    "colab": {
     "base_uri": "https://localhost:8080/"
    },
    "id": "41Kjsj5YTN0c",
    "outputId": "fd3ddc59-416b-4a0c-e6b0-f750cb9e53ed"
   },
   "outputs": [],
   "source": [
    "device = torch.device(\"cuda\" if torch.cuda.is_available() else \"cpu\")\n",
    "device"
   ]
  },
  {
   "cell_type": "code",
   "execution_count": null,
   "metadata": {
    "id": "6l3zlBhiUZ2B"
   },
   "outputs": [],
   "source": [
    "HOME = os.getcwd()"
   ]
  },
  {
   "cell_type": "code",
   "execution_count": null,
   "metadata": {
    "id": "vCYSO3hYTmlb"
   },
   "outputs": [],
   "source": [
    "project_files = glob.glob(HOME+'*.avi') + glob.glob(HOME+'*.mp4')"
   ]
  },
  {
   "cell_type": "code",
   "execution_count": null,
   "metadata": {
    "colab": {
     "base_uri": "https://localhost:8080/"
    },
    "id": "9d87OB3iVM1H",
    "outputId": "82260629-dbf4-4732-b397-c46a411a16fc"
   },
   "outputs": [],
   "source": [
    "project_files"
   ]
  },
  {
   "cell_type": "code",
   "execution_count": null,
   "metadata": {
    "id": "BUSVgtBPVSMX"
   },
   "outputs": [],
   "source": [
    "if not project_files:\n",
    "  try:\n",
    "    gdown.download()\n",
    "  except:\n",
    "    pass"
   ]
  },
  {
   "cell_type": "code",
   "execution_count": null,
   "metadata": {
    "colab": {
     "background_save": true,
     "base_uri": "https://localhost:8080/"
    },
    "id": "DCIQI5GsTYYb",
    "outputId": "2a656fb7-7d79-4051-c694-cbd54592e057"
   },
   "outputs": [],
   "source": [
    "results = model.track(source=\"/content/20250622_171827_tello_recording_rgb.mp4\", device=device,save=True)"
   ]
  },
  {
   "cell_type": "code",
   "execution_count": null,
   "metadata": {
    "colab": {
     "background_save": true
    },
    "id": "hlo76yl6TewL",
    "outputId": "7b46b655-8a20-4b9d-d221-3cfd94a74f52"
   },
   "outputs": [],
   "source": [
    "# Define the original and new file names\n",
    "# Assuming there's only one video file in the output directory\n",
    "output_dir = 'runs/detect/track' # Or the new directory name if you renamed it\n",
    "video_files = glob.glob(f'{output_dir}/*.mp4') + glob.glob(f'{output_dir}/*.avi')\n",
    "\n",
    "if video_files:\n",
    "    original_file_path = video_files[0]\n",
    "    new_file_name = f'{original_file_path}_{model.name}.mp4' # Set your desired new file name here\n",
    "    new_file_path = os.path.join(output_dir, new_file_name)\n",
    "\n",
    "    # Check if the new file name already exists to avoid overwriting\n",
    "    if not os.path.exists(new_file_path):\n",
    "        os.rename(original_file_path, new_file_path)\n",
    "        print(f\"Renamed '{original_file_path}' to '{new_file_path}'\")\n",
    "    else:\n",
    "        print(f\"A file named '{new_file_name}' already exists in '{output_dir}'.\")\n",
    "else:\n",
    "    print(f\"No video files found in '{output_dir}'.\")"
   ]
  },
  {
   "cell_type": "code",
   "execution_count": null,
   "metadata": {
    "colab": {
     "background_save": true
    },
    "id": "zVi-ST1JXtsj"
   },
   "outputs": [],
   "source": [
    "from google.colab import files"
   ]
  },
  {
   "cell_type": "code",
   "execution_count": null,
   "metadata": {
    "colab": {
     "background_save": true
    },
    "id": "YEJnmx4yXrS6",
    "outputId": "203c0e01-5deb-4d81-e489-1315c062cc65"
   },
   "outputs": [],
   "source": [
    "files.download(new_file_path)"
   ]
  },
  {
   "cell_type": "code",
   "execution_count": null,
   "metadata": {
    "colab": {
     "background_save": true
    },
    "id": "43e2463a"
   },
   "outputs": [],
   "source": [
    "from google.colab import runtime\n",
    "runtime.unassign()"
   ]
  }
 ],
 "metadata": {
  "accelerator": "GPU",
  "colab": {
   "gpuType": "T4",
   "provenance": []
  },
  "kernelspec": {
   "display_name": "Python 3",
   "name": "python3"
  },
  "language_info": {
   "name": "python"
  }
 },
 "nbformat": 4,
 "nbformat_minor": 0
}
